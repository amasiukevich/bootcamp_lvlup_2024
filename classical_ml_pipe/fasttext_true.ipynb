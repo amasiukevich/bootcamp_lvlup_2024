{
 "cells": [
  {
   "cell_type": "code",
   "execution_count": 2,
   "metadata": {},
   "outputs": [],
   "source": [
    "import numpy as np\n",
    "import fasttext as ft\n",
    "import pandas as pd\n",
    "\n",
    "\n",
    "import os\n",
    "import json\n",
    "\n",
    "from ascii_preprocessing import (\n",
    "    prepare_fasttext_input,\n",
    "    preprocess_set_to_ascii\n",
    ")"
   ]
  },
  {
   "cell_type": "code",
   "execution_count": 3,
   "metadata": {},
   "outputs": [],
   "source": [
    "ENUM_DATA = '''  TGLANG_LANGUAGE_OTHER,\n",
    "  TGLANG_LANGUAGE_1S_ENTERPRISE,\n",
    "  TGLANG_LANGUAGE_ABAP,\n",
    "  TGLANG_LANGUAGE_ACTIONSCRIPT,\n",
    "  TGLANG_LANGUAGE_ADA,\n",
    "  TGLANG_LANGUAGE_APACHE_GROOVY,\n",
    "  TGLANG_LANGUAGE_APEX,\n",
    "  TGLANG_LANGUAGE_APPLESCRIPT,\n",
    "  TGLANG_LANGUAGE_ASP,\n",
    "  TGLANG_LANGUAGE_ASSEMBLY,\n",
    "  TGLANG_LANGUAGE_AUTOHOTKEY,\n",
    "  TGLANG_LANGUAGE_AWK,\n",
    "  TGLANG_LANGUAGE_BASIC,\n",
    "  TGLANG_LANGUAGE_BATCH,\n",
    "  TGLANG_LANGUAGE_BISON,\n",
    "  TGLANG_LANGUAGE_C,\n",
    "  TGLANG_LANGUAGE_CLOJURE,\n",
    "  TGLANG_LANGUAGE_CMAKE,\n",
    "  TGLANG_LANGUAGE_COBOL,\n",
    "  TGLANG_LANGUAGE_COFFESCRIPT,\n",
    "  TGLANG_LANGUAGE_COMMON_LISP,\n",
    "  TGLANG_LANGUAGE_CPLUSPLUS,\n",
    "  TGLANG_LANGUAGE_CRYSTAL,\n",
    "  TGLANG_LANGUAGE_CSHARP,\n",
    "  TGLANG_LANGUAGE_CSS,\n",
    "  TGLANG_LANGUAGE_CSV,\n",
    "  TGLANG_LANGUAGE_D,\n",
    "  TGLANG_LANGUAGE_DART,\n",
    "  TGLANG_LANGUAGE_DELPHI,\n",
    "  TGLANG_LANGUAGE_DOCKER,\n",
    "  TGLANG_LANGUAGE_ELIXIR,\n",
    "  TGLANG_LANGUAGE_ELM,\n",
    "  TGLANG_LANGUAGE_ERLANG,\n",
    "  TGLANG_LANGUAGE_FIFT,\n",
    "  TGLANG_LANGUAGE_FORTH,\n",
    "  TGLANG_LANGUAGE_FORTRAN,\n",
    "  TGLANG_LANGUAGE_FSHARP,\n",
    "  TGLANG_LANGUAGE_FUNC,\n",
    "  TGLANG_LANGUAGE_GAMS,\n",
    "  TGLANG_LANGUAGE_GO,\n",
    "  TGLANG_LANGUAGE_GRADLE,\n",
    "  TGLANG_LANGUAGE_GRAPHQL,\n",
    "  TGLANG_LANGUAGE_HACK,\n",
    "  TGLANG_LANGUAGE_HASKELL,\n",
    "  TGLANG_LANGUAGE_HTML,\n",
    "  TGLANG_LANGUAGE_ICON,\n",
    "  TGLANG_LANGUAGE_IDL,\n",
    "  TGLANG_LANGUAGE_INI,\n",
    "  TGLANG_LANGUAGE_JAVA,\n",
    "  TGLANG_LANGUAGE_JAVASCRIPT,\n",
    "  TGLANG_LANGUAGE_JSON,\n",
    "  TGLANG_LANGUAGE_JULIA,\n",
    "  TGLANG_LANGUAGE_KEYMAN,\n",
    "  TGLANG_LANGUAGE_KOTLIN,\n",
    "  TGLANG_LANGUAGE_LATEX,\n",
    "  TGLANG_LANGUAGE_LISP,\n",
    "  TGLANG_LANGUAGE_LOGO,\n",
    "  TGLANG_LANGUAGE_LUA,\n",
    "  TGLANG_LANGUAGE_MAKEFILE,\n",
    "  TGLANG_LANGUAGE_MARKDOWN,\n",
    "  TGLANG_LANGUAGE_MATLAB,\n",
    "  TGLANG_LANGUAGE_NGINX,\n",
    "  TGLANG_LANGUAGE_NIM,\n",
    "  TGLANG_LANGUAGE_OBJECTIVE_C,\n",
    "  TGLANG_LANGUAGE_OCAML,\n",
    "  TGLANG_LANGUAGE_OPENEDGE_ABL,\n",
    "  TGLANG_LANGUAGE_PASCAL,\n",
    "  TGLANG_LANGUAGE_PERL,\n",
    "  TGLANG_LANGUAGE_PHP,\n",
    "  TGLANG_LANGUAGE_PL_SQL,\n",
    "  TGLANG_LANGUAGE_POWERSHELL,\n",
    "  TGLANG_LANGUAGE_PROLOG,\n",
    "  TGLANG_LANGUAGE_PROTOBUF,\n",
    "  TGLANG_LANGUAGE_PYTHON,\n",
    "  TGLANG_LANGUAGE_QML,\n",
    "  TGLANG_LANGUAGE_R,\n",
    "  TGLANG_LANGUAGE_RAKU,\n",
    "  TGLANG_LANGUAGE_REGEX,\n",
    "  TGLANG_LANGUAGE_RUBY,\n",
    "  TGLANG_LANGUAGE_RUST,\n",
    "  TGLANG_LANGUAGE_SAS,\n",
    "  TGLANG_LANGUAGE_SCALA,\n",
    "  TGLANG_LANGUAGE_SCHEME,\n",
    "  TGLANG_LANGUAGE_SHELL,\n",
    "  TGLANG_LANGUAGE_SMALLTALK,\n",
    "  TGLANG_LANGUAGE_SOLIDITY,\n",
    "  TGLANG_LANGUAGE_SQL,\n",
    "  TGLANG_LANGUAGE_SWIFT,\n",
    "  TGLANG_LANGUAGE_TCL,\n",
    "  TGLANG_LANGUAGE_TEXTILE,\n",
    "  TGLANG_LANGUAGE_TL,\n",
    "  TGLANG_LANGUAGE_TYPESCRIPT,\n",
    "  TGLANG_LANGUAGE_UNREALSCRIPT,\n",
    "  TGLANG_LANGUAGE_VALA,\n",
    "  TGLANG_LANGUAGE_VBSCRIPT,\n",
    "  TGLANG_LANGUAGE_VERILOG,\n",
    "  TGLANG_LANGUAGE_VISUAL_BASIC,\n",
    "  TGLANG_LANGUAGE_WOLFRAM,\n",
    "  TGLANG_LANGUAGE_XML,\n",
    "  TGLANG_LANGUAGE_YAML'''\n",
    "id_to_cat = dict((i, c.replace(',', '').strip()) for i, c in enumerate(ENUM_DATA.split(\"\\n\")))\n",
    "cat_to_id = {v: k for k, v in id_to_cat.items()}"
   ]
  },
  {
   "cell_type": "code",
   "execution_count": 4,
   "metadata": {},
   "outputs": [],
   "source": [
    "train_data = pd.read_json(\"train_set_all_clean.json\")\n",
    "val_data = pd.read_json(\"val_set_all_clean.json\")"
   ]
  },
  {
   "cell_type": "code",
   "execution_count": 5,
   "metadata": {},
   "outputs": [
    {
     "name": "stderr",
     "output_type": "stream",
     "text": [
      "100%|██████████| 6994/6994 [00:06<00:00, 1098.77it/s]\n",
      "100%|██████████| 6994/6994 [00:04<00:00, 1526.90it/s]\n",
      "100%|██████████| 2333/2333 [00:02<00:00, 1061.13it/s]\n",
      "100%|██████████| 2333/2333 [00:01<00:00, 1411.87it/s]\n"
     ]
    }
   ],
   "source": [
    "train_data_cleaned = preprocess_set_to_ascii(train_data)\n",
    "val_data_cleaned = preprocess_set_to_ascii(val_data)\n"
   ]
  },
  {
   "cell_type": "code",
   "execution_count": 6,
   "metadata": {},
   "outputs": [],
   "source": [
    "train_dataset_ft_path = \"train_data_ft.txt\"\n",
    "val_dataset_ft_path = \"val_data_ft.txt\"\n",
    "\n",
    "prepare_fasttext_input(train_data_cleaned, train_dataset_ft_path)\n",
    "prepare_fasttext_input(val_data_cleaned, val_dataset_ft_path)"
   ]
  },
  {
   "cell_type": "code",
   "execution_count": 7,
   "metadata": {},
   "outputs": [
    {
     "name": "stderr",
     "output_type": "stream",
     "text": [
      "Progress: 100.0% Trials:    7 Best score:  0.786970 ETA:   0h 0m 0s\n",
      "Training again with best arguments\n",
      "Read 20M words\n",
      "Number of words:  324464\n",
      "Number of labels: 92\n",
      "Progress: 100.0% words/sec/thread:  427329 lr:  0.000000 avg.loss:  3.398440 ETA:   0h 0m 0s\n",
      "Progress: 100.0% words/sec/thread: 1310890 lr:  0.000000 avg.loss:  0.980873 ETA:   0h 0m 0s 23.7% words/sec/thread: 1269555 lr:  0.332100 avg.loss:  1.907902 ETA:   0h 0m33s 62.0% words/sec/thread: 1292511 lr:  0.165571 avg.loss:  1.257525 ETA:   0h 0m16s\n"
     ]
    }
   ],
   "source": [
    "### training\n",
    "\n",
    "model = ft.train_supervised(\n",
    "    input=train_dataset_ft_path,\n",
    "    thread=4,\n",
    "    autotuneValidationFile=val_dataset_ft_path,\n",
    "    autotuneDuration=600,\n",
    "    autotuneModelSize='5M'\n",
    ")"
   ]
  },
  {
   "cell_type": "code",
   "execution_count": 8,
   "metadata": {},
   "outputs": [
    {
     "name": "stderr",
     "output_type": "stream",
     "text": [
      "100%|██████████| 2333/2333 [00:11<00:00, 208.89it/s]\n"
     ]
    },
    {
     "data": {
      "text/plain": [
       "0.7849885875181206"
      ]
     },
     "execution_count": 8,
     "metadata": {},
     "output_type": "execute_result"
    }
   ],
   "source": [
    "### evaluation\n",
    "from sklearn.metrics import f1_score, classification_report\n",
    "\n",
    "from tqdm import tqdm\n",
    "\n",
    "predicted = [model.predict(sentence)[0][0] for sentence in tqdm(val_data_cleaned.text_cleaned_ascii)]\n",
    "f1_score(val_data_cleaned['class'], predicted, average='macro')"
   ]
  },
  {
   "cell_type": "code",
   "execution_count": null,
   "metadata": {},
   "outputs": [],
   "source": []
  }
 ],
 "metadata": {
  "kernelspec": {
   "display_name": ".venv",
   "language": "python",
   "name": "python3"
  },
  "language_info": {
   "codemirror_mode": {
    "name": "ipython",
    "version": 3
   },
   "file_extension": ".py",
   "mimetype": "text/x-python",
   "name": "python",
   "nbconvert_exporter": "python",
   "pygments_lexer": "ipython3",
   "version": "3.10.10"
  }
 },
 "nbformat": 4,
 "nbformat_minor": 2
}
