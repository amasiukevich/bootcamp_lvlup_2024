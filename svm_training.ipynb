{
 "cells": [
  {
   "cell_type": "code",
   "execution_count": 1,
   "metadata": {},
   "outputs": [],
   "source": [
    "import pandas as pd\n",
    "import numpy as np"
   ]
  },
  {
   "cell_type": "code",
   "execution_count": 2,
   "metadata": {},
   "outputs": [],
   "source": [
    "from sklearn.feature_extraction.text import TfidfVectorizer"
   ]
  },
  {
   "cell_type": "code",
   "execution_count": 3,
   "metadata": {},
   "outputs": [],
   "source": [
    "train_data = pd.read_json(\"classical_ml_pipe/train_set_all_clean.json\")"
   ]
  },
  {
   "cell_type": "code",
   "execution_count": 4,
   "metadata": {},
   "outputs": [],
   "source": [
    "val_data = pd.read_json(\"classical_ml_pipe/val_set_all_clean.json\")"
   ]
  },
  {
   "cell_type": "code",
   "execution_count": 5,
   "metadata": {},
   "outputs": [],
   "source": [
    "from classical_ml_pipe.ascii_preprocessing import (\n",
    "    preprocess_set_to_ascii\n",
    ")"
   ]
  },
  {
   "cell_type": "code",
   "execution_count": 7,
   "metadata": {},
   "outputs": [
    {
     "name": "stderr",
     "output_type": "stream",
     "text": [
      "100%|██████████| 6994/6994 [00:07<00:00, 933.30it/s] \n",
      "100%|██████████| 6994/6994 [00:05<00:00, 1315.23it/s]\n",
      "100%|██████████| 2333/2333 [00:02<00:00, 900.85it/s] \n",
      "100%|██████████| 2333/2333 [00:01<00:00, 1222.96it/s]\n"
     ]
    }
   ],
   "source": [
    "train_data = preprocess_set_to_ascii(train_data)\n",
    "val_data = preprocess_set_to_ascii(val_data)"
   ]
  },
  {
   "cell_type": "code",
   "execution_count": 15,
   "metadata": {},
   "outputs": [],
   "source": [
    "### Vectorization\n",
    "\n",
    "vectorizer = TfidfVectorizer()\n",
    "vectorizer.fit(train_data['text_cleaned_ascii'])\n",
    "\n",
    "\n",
    "\n",
    "train_features = vectorizer.transform(train_data['text_cleaned_ascii'])\n",
    "val_features = vectorizer.transform(val_data['text_cleaned_ascii'])"
   ]
  },
  {
   "cell_type": "code",
   "execution_count": 19,
   "metadata": {},
   "outputs": [
    {
     "name": "stderr",
     "output_type": "stream",
     "text": [
      "/Users/antonmasiukevich/Desktop/bootcamp_lvlup_2024/.venv/lib/python3.10/site-packages/sklearn/svm/_classes.py:31: FutureWarning: The default value of `dual` will change from `True` to `'auto'` in 1.5. Set the value of `dual` explicitly to suppress the warning.\n",
      "  warnings.warn(\n"
     ]
    }
   ],
   "source": [
    "from sklearn.svm import LinearSVC\n",
    "\n",
    "\n",
    "model = LinearSVC()\n",
    "\n",
    "model.fit(train_features, train_data['class'])\n",
    "\n",
    "predictions = model.predict(val_features)"
   ]
  },
  {
   "cell_type": "code",
   "execution_count": 22,
   "metadata": {},
   "outputs": [],
   "source": [
    "from sklearn.metrics import f1_score, classification_report\n",
    "\n",
    "f1 = f1_score(val_data['class'], predictions, average='macro')"
   ]
  },
  {
   "cell_type": "code",
   "execution_count": 23,
   "metadata": {},
   "outputs": [
    {
     "name": "stdout",
     "output_type": "stream",
     "text": [
      "0.7508606396094971\n"
     ]
    }
   ],
   "source": [
    "print(f1)"
   ]
  },
  {
   "cell_type": "code",
   "execution_count": 28,
   "metadata": {},
   "outputs": [],
   "source": [
    "report = pd.DataFrame(\n",
    "    classification_report(\n",
    "        val_data['class'],\n",
    "        pd.Series(predictions),\n",
    "        output_dict=True\n",
    "    )\n",
    ").T.reset_index()"
   ]
  },
  {
   "cell_type": "code",
   "execution_count": 29,
   "metadata": {},
   "outputs": [
    {
     "data": {
      "text/html": [
       "<div>\n",
       "<style scoped>\n",
       "    .dataframe tbody tr th:only-of-type {\n",
       "        vertical-align: middle;\n",
       "    }\n",
       "\n",
       "    .dataframe tbody tr th {\n",
       "        vertical-align: top;\n",
       "    }\n",
       "\n",
       "    .dataframe thead th {\n",
       "        text-align: right;\n",
       "    }\n",
       "</style>\n",
       "<table border=\"1\" class=\"dataframe\">\n",
       "  <thead>\n",
       "    <tr style=\"text-align: right;\">\n",
       "      <th></th>\n",
       "      <th>index</th>\n",
       "      <th>precision</th>\n",
       "      <th>recall</th>\n",
       "      <th>f1-score</th>\n",
       "      <th>support</th>\n",
       "    </tr>\n",
       "  </thead>\n",
       "  <tbody>\n",
       "    <tr>\n",
       "      <th>0</th>\n",
       "      <td>TGLANG_LANGUAGE_1S_ENTERPRISE</td>\n",
       "      <td>0.441558</td>\n",
       "      <td>0.850000</td>\n",
       "      <td>0.581197</td>\n",
       "      <td>40.00000</td>\n",
       "    </tr>\n",
       "    <tr>\n",
       "      <th>1</th>\n",
       "      <td>TGLANG_LANGUAGE_ABAP</td>\n",
       "      <td>0.904762</td>\n",
       "      <td>0.904762</td>\n",
       "      <td>0.904762</td>\n",
       "      <td>21.00000</td>\n",
       "    </tr>\n",
       "    <tr>\n",
       "      <th>2</th>\n",
       "      <td>TGLANG_LANGUAGE_ACTIONSCRIPT</td>\n",
       "      <td>0.750000</td>\n",
       "      <td>0.875000</td>\n",
       "      <td>0.807692</td>\n",
       "      <td>24.00000</td>\n",
       "    </tr>\n",
       "    <tr>\n",
       "      <th>3</th>\n",
       "      <td>TGLANG_LANGUAGE_ADA</td>\n",
       "      <td>0.942857</td>\n",
       "      <td>0.891892</td>\n",
       "      <td>0.916667</td>\n",
       "      <td>37.00000</td>\n",
       "    </tr>\n",
       "    <tr>\n",
       "      <th>4</th>\n",
       "      <td>TGLANG_LANGUAGE_APACHE_GROOVY</td>\n",
       "      <td>0.684211</td>\n",
       "      <td>0.520000</td>\n",
       "      <td>0.590909</td>\n",
       "      <td>25.00000</td>\n",
       "    </tr>\n",
       "    <tr>\n",
       "      <th>...</th>\n",
       "      <td>...</td>\n",
       "      <td>...</td>\n",
       "      <td>...</td>\n",
       "      <td>...</td>\n",
       "      <td>...</td>\n",
       "    </tr>\n",
       "    <tr>\n",
       "      <th>90</th>\n",
       "      <td>TGLANG_LANGUAGE_XML</td>\n",
       "      <td>0.793103</td>\n",
       "      <td>0.741935</td>\n",
       "      <td>0.766667</td>\n",
       "      <td>31.00000</td>\n",
       "    </tr>\n",
       "    <tr>\n",
       "      <th>91</th>\n",
       "      <td>TGLANG_LANGUAGE_YAML</td>\n",
       "      <td>0.363636</td>\n",
       "      <td>0.363636</td>\n",
       "      <td>0.363636</td>\n",
       "      <td>22.00000</td>\n",
       "    </tr>\n",
       "    <tr>\n",
       "      <th>92</th>\n",
       "      <td>accuracy</td>\n",
       "      <td>0.758680</td>\n",
       "      <td>0.758680</td>\n",
       "      <td>0.758680</td>\n",
       "      <td>0.75868</td>\n",
       "    </tr>\n",
       "    <tr>\n",
       "      <th>93</th>\n",
       "      <td>macro avg</td>\n",
       "      <td>0.764249</td>\n",
       "      <td>0.757935</td>\n",
       "      <td>0.750861</td>\n",
       "      <td>2333.00000</td>\n",
       "    </tr>\n",
       "    <tr>\n",
       "      <th>94</th>\n",
       "      <td>weighted avg</td>\n",
       "      <td>0.766332</td>\n",
       "      <td>0.758680</td>\n",
       "      <td>0.752097</td>\n",
       "      <td>2333.00000</td>\n",
       "    </tr>\n",
       "  </tbody>\n",
       "</table>\n",
       "<p>95 rows × 5 columns</p>\n",
       "</div>"
      ],
      "text/plain": [
       "                            index  precision    recall  f1-score     support\n",
       "0   TGLANG_LANGUAGE_1S_ENTERPRISE   0.441558  0.850000  0.581197    40.00000\n",
       "1            TGLANG_LANGUAGE_ABAP   0.904762  0.904762  0.904762    21.00000\n",
       "2    TGLANG_LANGUAGE_ACTIONSCRIPT   0.750000  0.875000  0.807692    24.00000\n",
       "3             TGLANG_LANGUAGE_ADA   0.942857  0.891892  0.916667    37.00000\n",
       "4   TGLANG_LANGUAGE_APACHE_GROOVY   0.684211  0.520000  0.590909    25.00000\n",
       "..                            ...        ...       ...       ...         ...\n",
       "90            TGLANG_LANGUAGE_XML   0.793103  0.741935  0.766667    31.00000\n",
       "91           TGLANG_LANGUAGE_YAML   0.363636  0.363636  0.363636    22.00000\n",
       "92                       accuracy   0.758680  0.758680  0.758680     0.75868\n",
       "93                      macro avg   0.764249  0.757935  0.750861  2333.00000\n",
       "94                   weighted avg   0.766332  0.758680  0.752097  2333.00000\n",
       "\n",
       "[95 rows x 5 columns]"
      ]
     },
     "execution_count": 29,
     "metadata": {},
     "output_type": "execute_result"
    }
   ],
   "source": [
    "report"
   ]
  }
 ],
 "metadata": {
  "kernelspec": {
   "display_name": ".venv",
   "language": "python",
   "name": "python3"
  },
  "language_info": {
   "codemirror_mode": {
    "name": "ipython",
    "version": 3
   },
   "file_extension": ".py",
   "mimetype": "text/x-python",
   "name": "python",
   "nbconvert_exporter": "python",
   "pygments_lexer": "ipython3",
   "version": "3.10.10"
  }
 },
 "nbformat": 4,
 "nbformat_minor": 2
}
